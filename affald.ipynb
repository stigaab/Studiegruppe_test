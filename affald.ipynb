{
 "cells": [
  {
   "cell_type": "markdown",
   "metadata": {},
   "source": [
    "# Object Oriented Programming (OOP)\n",
    "\n",
    "Fordelen ved at arbejde/udvikle i et **OOP** (objektorienteret programmering) er, at vi kan organisere implementeringen omkring vores data som \"objekter\" frem for en organisering omkring funktioner eller logik. En **OOP**-implementering gør det dog også mere ligetil at trække data ud sammen med deres tilhørende relationer.\n",
    "\n",
    "**Kodespecifikke-læringsmål**:\n",
    " \n",
    "1. Strukturere jeres data som objekter og klasser.\n",
    "\n",
    "2. Udnytte OOP til at organisere data effektivt og gøre koden nemmere at vedligeholde og udvide."
   ]
  },
  {
   "cell_type": "code",
   "execution_count": null,
   "metadata": {},
   "outputs": [],
   "source": [
    "\n"
   ]
  },
  {
   "cell_type": "markdown",
   "metadata": {},
   "source": [
    "## Hvad sker der i kodeblokken ovenfor?\n",
    "\n",
    "1. Opretter en `klasse` Person (en ny **brugerdefineret datatype**).\n",
    "\n",
    "Klasser modellerer en begrebstype (her: en person) — en skabelon for objekter (instanser).\n",
    "\n",
    "`class` er en Python-syntaks for at oprette en klasse. Når interpreter’en når denne linje, konstrueres et `klassobjekt` og navngives Person i det aktuelle namespace (\"hukommelse\"; `x = 10`, x peger på 10). Klassen i sig selv er et objekt. \n",
    "\n",
    "2. Definerer en `initializer` (`__init__`), som kører når vi opretter en `instans` (`p = Person(...)`).\n",
    "\n",
    "`__init__` kaldes en initializer der etablerer objektets indre tilstand (initialisering) og er en særlig metode (*dunder-metode*) som Python automatisk kalder når vi kører `Person(...)`.\n",
    "\n",
    "`self`: reference til den instans der oprettes. Det er ikke et keyword, blot en konvention; vi kunne bruge et andet navn, men self er standard. `self` gør det muligt at gemme tilstande på instansen (`self.attribut`).\n",
    "\n",
    "3. Tildeler `instansattributter` (navn, alder, køn) til objektet via `self`.\n",
    "\n",
    "Hver tildeling skaber (eller opdaterer) en attribut på instansens. \n",
    "\n",
    "### Abstraktion: data vs. adfærd\n",
    "\n",
    "`klasse` nu er primært **data-bærer**. I OOP ønsker man typisk også at samle relevant adfærd (*metoder*). \n",
    "\n",
    "Abstraktion betyder at klassen udstiller et simpelt interface, mens den skjuler detaljer (fx intern validering), se nedenfor.\n"
   ]
  },
  {
   "cell_type": "code",
   "execution_count": null,
   "metadata": {},
   "outputs": [],
   "source": []
  },
  {
   "cell_type": "code",
   "execution_count": null,
   "metadata": {},
   "outputs": [],
   "source": []
  },
  {
   "cell_type": "code",
   "execution_count": null,
   "metadata": {},
   "outputs": [],
   "source": []
  },
  {
   "cell_type": "code",
   "execution_count": null,
   "metadata": {},
   "outputs": [],
   "source": [
    "\n"
   ]
  },
  {
   "cell_type": "code",
   "execution_count": null,
   "metadata": {},
   "outputs": [],
   "source": []
  },
  {
   "cell_type": "markdown",
   "metadata": {},
   "source": [
    "## Hvad sker der i kodeblokke ovenfor?\n",
    "\n",
    "Vi definerer vores tekstrepræsentation af objektet\n",
    "\n",
    "__str__ definerer den menneske-venlige tekstrepræsentation af objektet. Den bruges af print(obj) og af str(obj). Når du skriver print(p), kaldes p.__str__() automatisk. Hvis __str__ ikke findes, falder Python tilbage til __repr__ (eller en standardrepræsentation fra object).\n",
    "\n",
    "property skaber en managed attribute.\n",
    "\n",
    "@property gør alder til en property — en attribut hvis aflæsning viderestilles til en metode (fget).\n",
    "\n",
    "@alder.setter definerer, hvad der sker, når man sætter p.alder = ...; koden i setter udfører validering og skriver så til et internt felt (self._alder).\n",
    "\n",
    "Internt gemmes den faktiske værdi i self._alder (konvention: ledende underscore = “privat”).\n",
    "\n",
    "### Indkapsling / abstraktion\n",
    "\n",
    "Vi kan tilbyde et simpelt, rent API (p.alder) mens vi skjuler implementeringsdetaljer (her: _alder) og sørger for invariants (fx alder >= 0).\n",
    "\n",
    "Encapsulation: property skjuler intern repræsentation (_alder) og eksponerer kontrolleret adgang (alder).\n",
    "\n",
    "Abstraction: brugerfladen (p.alder) er simpel; brugeren behøver ikke kende valideringsregler.\n",
    "\n",
    "### Klassen kan indgå i større OOP-design\n",
    "\n",
    "Vi kan fx lave `class Elev(Person):` og tilføje felter/metoder, der er relevante for under-klassen \"Elever\"."
   ]
  },
  {
   "cell_type": "code",
   "execution_count": null,
   "metadata": {},
   "outputs": [],
   "source": []
  },
  {
   "cell_type": "code",
   "execution_count": null,
   "metadata": {},
   "outputs": [],
   "source": [
    "\n"
   ]
  },
  {
   "cell_type": "code",
   "execution_count": null,
   "metadata": {},
   "outputs": [],
   "source": []
  }
 ],
 "metadata": {
  "language_info": {
   "name": "python"
  }
 },
 "nbformat": 4,
 "nbformat_minor": 2
}
