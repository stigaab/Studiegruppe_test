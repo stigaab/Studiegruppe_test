{
 "cells": [
  {
   "cell_type": "code",
   "execution_count": 4,
   "metadata": {},
   "outputs": [],
   "source": [
    "\n",
    "class Affaldsbeholder:\n",
    "    def __init__(self, id_nummer, kapacitet, type_affald):\n",
    "        self.id_nummer = id_nummer\n",
    "        self.kapacitet = kapacitet   # kalder setter nedenfor\n",
    "        self.type_affald = type_affald\n",
    "\n",
    "    @property\n",
    "    def kapacitet(self) -> int:\n",
    "        return self._kapacitet\n",
    "\n",
    "    @kapacitet.setter\n",
    "    def kapacitet(self, value):\n",
    "        try:\n",
    "            value = int(value)   # sikrer at kapacitet er heltal\n",
    "        except (TypeError, ValueError):\n",
    "            raise TypeError(\"Kapacitet skal være et heltal\")\n",
    "        if value <= 0:\n",
    "            raise ValueError(\"Kapacitet skal være positiv\")\n",
    "        self._kapacitet = value\n",
    "\n",
    "    def __str__(self):\n",
    "        return f\"ID: {self.id_nummer}, Kapacitet: {self.kapacitet} L, Type: {self.type_affald}\"\n",
    "\n",
    "\n",
    "class Plastikbeholder(Affaldsbeholder):\n",
    "    def __init__(self, id_nummer, kapacitet, type_affald, farve, genanvendelsesgrad):\n",
    "        super().__init__(id_nummer, kapacitet, type_affald)\n",
    "        self.farve = farve\n",
    "        self.genanvendelsesgrad = genanvendelsesgrad\n",
    "\n",
    "    @classmethod\n",
    "    def fra_beholder(cls, beholder, farve, genanvendelsesgrad):\n",
    "        return cls(beholder.id_nummer, beholder.kapacitet, beholder.type_affald, farve, genanvendelsesgrad)\n",
    "\n",
    "\n",
    "\n",
    "\n",
    "    def __str__(self):\n",
    "        return (f\"ID: {self.id_nummer}, Kapacitet: {self.kapacitet} L, \"\n",
    "                f\"Type: {self.type_affald}, Farve: {self.farve}, \"\n",
    "                f\"Genanvendelsesgrad: {self.genanvendelsesgrad}%\")\n"
   ]
  },
  {
   "cell_type": "code",
   "execution_count": 5,
   "metadata": {},
   "outputs": [],
   "source": [
    "# Opret en affaldsbeholder\n",
    "b1 = Affaldsbeholder(\"A101\", 120, \"Restaffald\")\n",
    "\n",
    "\n",
    "# Opret en plastikbeholder direkte\n",
    "p1 = Plastikbeholder(\"P202\", 240, \"Plastik\", \"Gul\", 80)\n",
    "\n",
    "\n",
    "# Opret en plastikbeholder ud fra en eksisterende beholder\n",
    "p2 = Plastikbeholder.fra_beholder(b1, \"Blå\", 90)\n"
   ]
  },
  {
   "cell_type": "code",
   "execution_count": 6,
   "metadata": {},
   "outputs": [
    {
     "name": "stdout",
     "output_type": "stream",
     "text": [
      "ID: A101, Kapacitet: 120 L, Type: Restaffald\n",
      "ID: P202, Kapacitet: 240 L, Type: Plastik, Farve: Gul, Genanvendelsesgrad: 80%\n",
      "ID: A101, Kapacitet: 120 L, Type: Restaffald, Farve: Blå, Genanvendelsesgrad: 90%\n"
     ]
    }
   ],
   "source": [
    "print(b1)\n",
    "print(p1)\n",
    "print(p2)"
   ]
  }
 ],
 "metadata": {
  "language_info": {
   "name": "python"
  }
 },
 "nbformat": 4,
 "nbformat_minor": 2
}
