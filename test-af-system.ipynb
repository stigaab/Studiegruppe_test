{
 "cells": [
  {
   "cell_type": "code",
   "execution_count": null,
   "id": "6cdec305",
   "metadata": {},
   "outputs": [],
   "source": [
    "class Affaldsbeholder:\n",
    "    def __init__(self, id_nummer, kapacitet, type_affald):\n",
    "        self.id_nummer = id_nummer\n",
    "        self.kapacitet = kapacitet   # kalder setter nedenfor\n",
    "        self.type_affald = type_affald\n",
    "\n",
    "    @property\n",
    "    def kapacitet(self) -> int:\n",
    "        return self._kapacitet\n",
    "\n",
    "    @kapacitet.setter\n",
    "    def kapacitet(self, value):\n",
    "        try:\n",
    "            value = int(value)   # sikrer at kapacitet er heltal\n",
    "        except (TypeError, ValueError):\n",
    "            raise TypeError(\"Kapacitet skal være et heltal\")\n",
    "        if value <= 0:\n",
    "            raise ValueError(\"Kapacitet skal være positiv\")\n",
    "        self._kapacitet = value\n",
    "\n",
    "    def __str__(self):\n",
    "        return f\"ID: {self.id_nummer}, Kapacitet: {self.kapacitet} L, Type: {self.type_affald}\"\n",
    "\n",
    "class Plastikbeholder(Affaldsbeholder):\n",
    "    def __init__(self, id_nummer, kapacitet, type_affald, farve, genanvendelsesgrad):\n",
    "        super().__init__(id_nummer, kapacitet, type_affald)\n",
    "        self.farve = farve\n",
    "        self.genanvendelsesgrad = genanvendelsesgrad\n",
    "\n",
    "    @classmethod\n",
    "    def fra_beholder(cls, beholder, farve, genanvendelsesgrad):\n",
    "        return cls(beholder.id_nummer, beholder.kapacitet, beholder.type_affald, farve, genanvendelsesgrad)\n",
    "    \n",
    "    def __str__(self):\n",
    "        return (\n",
    "        f\"ID: {self.id_nummer}, Kapacitet: {self.kapacitet} L, \"\n",
    "        f\"Type: {self.type_affald}, Farve: {self.farve}, \"\n",
    "        f\"Genanvendelsesgrad: {self.genanvendelsesgrad}%\"\n",
    "        )\n"
   ]
  }
 ],
 "metadata": {
  "language_info": {
   "name": "python"
  }
 },
 "nbformat": 4,
 "nbformat_minor": 5
}
